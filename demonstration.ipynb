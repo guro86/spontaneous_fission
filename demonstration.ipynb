{
 "cells": [
  {
   "cell_type": "markdown",
   "id": "44c596d8",
   "metadata": {},
   "source": [
    "# Demonstration"
   ]
  },
  {
   "cell_type": "code",
   "execution_count": 1,
   "id": "a1f0a651",
   "metadata": {},
   "outputs": [],
   "source": [
    "import spontaneous_fission as sf"
   ]
  },
  {
   "cell_type": "markdown",
   "id": "46143dad",
   "metadata": {},
   "source": [
    "## Unittest that benchmarks against serpent"
   ]
  },
  {
   "cell_type": "code",
   "execution_count": 2,
   "id": "6fe0849a",
   "metadata": {},
   "outputs": [
    {
     "name": "stderr",
     "output_type": "stream",
     "text": [
      "test_SFR (spontaneous_fission.tests.unittests.test_material) ... ok\n",
      "\n",
      "----------------------------------------------------------------------\n",
      "Ran 1 test in 0.019s\n",
      "\n",
      "OK\n"
     ]
    }
   ],
   "source": [
    "%run -m unittest -v spontaneous_fission/tests/unittests.py"
   ]
  },
  {
   "cell_type": "markdown",
   "id": "12f13533",
   "metadata": {},
   "source": [
    "## Modules\n",
    "We have three different classes in the package, material, nuclide and data."
   ]
  },
  {
   "cell_type": "markdown",
   "id": "897c24e8",
   "metadata": {},
   "source": [
    "### Material class\n",
    "\n",
    "Here we demonstrate how a new material is defined with nuclides."
   ]
  },
  {
   "cell_type": "code",
   "execution_count": 3,
   "id": "d3ec4029",
   "metadata": {},
   "outputs": [],
   "source": [
    "material = sf.material()\n",
    "\n",
    "material.add_nuclide('U235',.04)\n",
    "material.add_nuclide('U238',.96)\n",
    "material.add_nuclide('O16',2.)\n",
    "\n",
    "material.set_density(10.5)\n",
    "\n",
    "material.set_volume(1)"
   ]
  },
  {
   "cell_type": "raw",
   "id": "18b5b592",
   "metadata": {},
   "source": [
    "For all functions, there are docstrings."
   ]
  },
  {
   "cell_type": "code",
   "execution_count": 4,
   "id": "3e9bbaf3",
   "metadata": {},
   "outputs": [],
   "source": [
    "?material.get_atomic_numbers"
   ]
  },
  {
   "cell_type": "markdown",
   "id": "41725bed",
   "metadata": {},
   "source": [
    "For the material there are a set of functions that can be called. But most important is the get_SFR:"
   ]
  },
  {
   "cell_type": "code",
   "execution_count": 5,
   "id": "371f21c8",
   "metadata": {},
   "outputs": [],
   "source": [
    "?material.get_SFR"
   ]
  },
  {
   "cell_type": "code",
   "execution_count": 6,
   "id": "4f89c491",
   "metadata": {},
   "outputs": [
    {
     "data": {
      "text/plain": [
       "0.06026561479605284"
      ]
     },
     "execution_count": 6,
     "metadata": {},
     "output_type": "execute_result"
    }
   ],
   "source": [
    "material.get_SFR() #Fission /s /cm3"
   ]
  },
  {
   "cell_type": "markdown",
   "id": "2fd75964",
   "metadata": {},
   "source": [
    "### Nuclide class\n",
    "The nuclides in the material are separate objects of its own class, that could also be usefuel to retrive some information."
   ]
  },
  {
   "cell_type": "code",
   "execution_count": 7,
   "id": "ce753da7",
   "metadata": {},
   "outputs": [],
   "source": [
    "nuclide = sf.nuclide('U235')"
   ]
  },
  {
   "cell_type": "code",
   "execution_count": 8,
   "id": "1d981c80",
   "metadata": {},
   "outputs": [
    {
     "data": {
      "text/plain": [
       "2.221607588611277e+16"
      ]
     },
     "execution_count": 8,
     "metadata": {},
     "output_type": "execute_result"
    }
   ],
   "source": [
    "nuclide.get_item('half_life_sec')"
   ]
  },
  {
   "cell_type": "markdown",
   "id": "faee6201",
   "metadata": {},
   "source": [
    "### Data class\n",
    "Class used to prepare the data but also combine it with usefuel methods for retriving data."
   ]
  },
  {
   "cell_type": "code",
   "execution_count": 9,
   "id": "7cf40398",
   "metadata": {},
   "outputs": [],
   "source": [
    "data = sf.data()"
   ]
  },
  {
   "cell_type": "code",
   "execution_count": 10,
   "id": "51999666",
   "metadata": {},
   "outputs": [
    {
     "data": {
      "text/html": [
       "<div>\n",
       "<style scoped>\n",
       "    .dataframe tbody tr th:only-of-type {\n",
       "        vertical-align: middle;\n",
       "    }\n",
       "\n",
       "    .dataframe tbody tr th {\n",
       "        vertical-align: top;\n",
       "    }\n",
       "\n",
       "    .dataframe thead th {\n",
       "        text-align: right;\n",
       "    }\n",
       "</style>\n",
       "<table border=\"1\" class=\"dataframe\">\n",
       "  <thead>\n",
       "    <tr style=\"text-align: right;\">\n",
       "      <th></th>\n",
       "      <th>z</th>\n",
       "      <th>n</th>\n",
       "      <th>symbol</th>\n",
       "      <th>radius</th>\n",
       "      <th>unc_r</th>\n",
       "      <th>abundance</th>\n",
       "      <th>abundance_unc</th>\n",
       "      <th>energy_shift</th>\n",
       "      <th>energy</th>\n",
       "      <th>unc_e</th>\n",
       "      <th>...</th>\n",
       "      <th>binding</th>\n",
       "      <th>unc_ba</th>\n",
       "      <th>atomic_mass</th>\n",
       "      <th>unc_am</th>\n",
       "      <th>massexcess</th>\n",
       "      <th>unc_me</th>\n",
       "      <th>ENSDFpublicationcut-off</th>\n",
       "      <th>ENSDFauthors</th>\n",
       "      <th>Extraction_date</th>\n",
       "      <th>a</th>\n",
       "    </tr>\n",
       "    <tr>\n",
       "      <th>name</th>\n",
       "      <th></th>\n",
       "      <th></th>\n",
       "      <th></th>\n",
       "      <th></th>\n",
       "      <th></th>\n",
       "      <th></th>\n",
       "      <th></th>\n",
       "      <th></th>\n",
       "      <th></th>\n",
       "      <th></th>\n",
       "      <th></th>\n",
       "      <th></th>\n",
       "      <th></th>\n",
       "      <th></th>\n",
       "      <th></th>\n",
       "      <th></th>\n",
       "      <th></th>\n",
       "      <th></th>\n",
       "      <th></th>\n",
       "      <th></th>\n",
       "      <th></th>\n",
       "    </tr>\n",
       "  </thead>\n",
       "  <tbody>\n",
       "    <tr>\n",
       "      <th>NN1</th>\n",
       "      <td>0</td>\n",
       "      <td>1</td>\n",
       "      <td>Nn</td>\n",
       "      <td>-0.1149</td>\n",
       "      <td>0.0027</td>\n",
       "      <td>NaN</td>\n",
       "      <td>NaN</td>\n",
       "      <td>NaN</td>\n",
       "      <td>0.0</td>\n",
       "      <td>NaN</td>\n",
       "      <td>...</td>\n",
       "      <td>0.0000</td>\n",
       "      <td>0.0</td>\n",
       "      <td>1.008665e+06</td>\n",
       "      <td>47.0</td>\n",
       "      <td>8071.318060</td>\n",
       "      <td>44.0</td>\n",
       "      <td>31-Oct-2005</td>\n",
       "      <td>BALRAJ SINGH</td>\n",
       "      <td>2022-04-26</td>\n",
       "      <td>1</td>\n",
       "    </tr>\n",
       "    <tr>\n",
       "      <th>N4</th>\n",
       "      <td>0</td>\n",
       "      <td>4</td>\n",
       "      <td>N</td>\n",
       "      <td>NaN</td>\n",
       "      <td>NaN</td>\n",
       "      <td>NaN</td>\n",
       "      <td>NaN</td>\n",
       "      <td>NaN</td>\n",
       "      <td>0.0</td>\n",
       "      <td>NaN</td>\n",
       "      <td>...</td>\n",
       "      <td>NaN</td>\n",
       "      <td>NaN</td>\n",
       "      <td>NaN</td>\n",
       "      <td>NaN</td>\n",
       "      <td>NaN</td>\n",
       "      <td>NaN</td>\n",
       "      <td>30-Aug-2017</td>\n",
       "      <td>J.E. Purcell and  C.G. Sheu</td>\n",
       "      <td>2022-04-26</td>\n",
       "      <td>4</td>\n",
       "    </tr>\n",
       "    <tr>\n",
       "      <th>N6</th>\n",
       "      <td>0</td>\n",
       "      <td>6</td>\n",
       "      <td>N</td>\n",
       "      <td>NaN</td>\n",
       "      <td>NaN</td>\n",
       "      <td>NaN</td>\n",
       "      <td>NaN</td>\n",
       "      <td>NaN</td>\n",
       "      <td>0.0</td>\n",
       "      <td>NaN</td>\n",
       "      <td>...</td>\n",
       "      <td>NaN</td>\n",
       "      <td>NaN</td>\n",
       "      <td>NaN</td>\n",
       "      <td>NaN</td>\n",
       "      <td>NaN</td>\n",
       "      <td>NaN</td>\n",
       "      <td>15-March-2017</td>\n",
       "      <td>J.H. Kelley and  G.C. Sheu</td>\n",
       "      <td>2022-04-26</td>\n",
       "      <td>6</td>\n",
       "    </tr>\n",
       "    <tr>\n",
       "      <th>H1</th>\n",
       "      <td>1</td>\n",
       "      <td>0</td>\n",
       "      <td>H</td>\n",
       "      <td>0.8783</td>\n",
       "      <td>0.0086</td>\n",
       "      <td>99.9855</td>\n",
       "      <td>78.0</td>\n",
       "      <td>NaN</td>\n",
       "      <td>0.0</td>\n",
       "      <td>NaN</td>\n",
       "      <td>...</td>\n",
       "      <td>0.0000</td>\n",
       "      <td>0.0</td>\n",
       "      <td>1.007825e+06</td>\n",
       "      <td>14.0</td>\n",
       "      <td>7288.971064</td>\n",
       "      <td>13.0</td>\n",
       "      <td>31-Oct-2005</td>\n",
       "      <td>BALRAJ SINGH</td>\n",
       "      <td>2022-04-26</td>\n",
       "      <td>1</td>\n",
       "    </tr>\n",
       "    <tr>\n",
       "      <th>H2</th>\n",
       "      <td>1</td>\n",
       "      <td>1</td>\n",
       "      <td>H</td>\n",
       "      <td>2.1421</td>\n",
       "      <td>0.0088</td>\n",
       "      <td>0.0145</td>\n",
       "      <td>78.0</td>\n",
       "      <td>NaN</td>\n",
       "      <td>0.0</td>\n",
       "      <td>NaN</td>\n",
       "      <td>...</td>\n",
       "      <td>1112.2831</td>\n",
       "      <td>2.0</td>\n",
       "      <td>2.014102e+06</td>\n",
       "      <td>15.0</td>\n",
       "      <td>13135.722895</td>\n",
       "      <td>15.0</td>\n",
       "      <td>1-May-2003</td>\n",
       "      <td>J.H. KELLEY and  J.L. GODWIN</td>\n",
       "      <td>2022-04-26</td>\n",
       "      <td>2</td>\n",
       "    </tr>\n",
       "    <tr>\n",
       "      <th>...</th>\n",
       "      <td>...</td>\n",
       "      <td>...</td>\n",
       "      <td>...</td>\n",
       "      <td>...</td>\n",
       "      <td>...</td>\n",
       "      <td>...</td>\n",
       "      <td>...</td>\n",
       "      <td>...</td>\n",
       "      <td>...</td>\n",
       "      <td>...</td>\n",
       "      <td>...</td>\n",
       "      <td>...</td>\n",
       "      <td>...</td>\n",
       "      <td>...</td>\n",
       "      <td>...</td>\n",
       "      <td>...</td>\n",
       "      <td>...</td>\n",
       "      <td>...</td>\n",
       "      <td>...</td>\n",
       "      <td>...</td>\n",
       "      <td>...</td>\n",
       "    </tr>\n",
       "    <tr>\n",
       "      <th>LV293</th>\n",
       "      <td>116</td>\n",
       "      <td>177</td>\n",
       "      <td>Lv</td>\n",
       "      <td>NaN</td>\n",
       "      <td>NaN</td>\n",
       "      <td>NaN</td>\n",
       "      <td>NaN</td>\n",
       "      <td>NaN</td>\n",
       "      <td>0.0</td>\n",
       "      <td>NaN</td>\n",
       "      <td>...</td>\n",
       "      <td>7111.0000</td>\n",
       "      <td>2.0</td>\n",
       "      <td>2.932046e+08</td>\n",
       "      <td>553.0</td>\n",
       "      <td>190568.000000</td>\n",
       "      <td>515.0</td>\n",
       "      <td>12-Aug-2005</td>\n",
       "      <td>M. GUPTA and  THOMAS W. BURROWS</td>\n",
       "      <td>2022-04-26</td>\n",
       "      <td>293</td>\n",
       "    </tr>\n",
       "    <tr>\n",
       "      <th>LV294</th>\n",
       "      <td>116</td>\n",
       "      <td>178</td>\n",
       "      <td>Lv</td>\n",
       "      <td>NaN</td>\n",
       "      <td>NaN</td>\n",
       "      <td>NaN</td>\n",
       "      <td>NaN</td>\n",
       "      <td>NaN</td>\n",
       "      <td>0.0</td>\n",
       "      <td>NaN</td>\n",
       "      <td>...</td>\n",
       "      <td>NaN</td>\n",
       "      <td>NaN</td>\n",
       "      <td>NaN</td>\n",
       "      <td>NaN</td>\n",
       "      <td>NaN</td>\n",
       "      <td>NaN</td>\n",
       "      <td>31-Jan-2019</td>\n",
       "      <td>BALRAJ SINGH</td>\n",
       "      <td>2022-04-26</td>\n",
       "      <td>294</td>\n",
       "    </tr>\n",
       "    <tr>\n",
       "      <th>TS293</th>\n",
       "      <td>117</td>\n",
       "      <td>176</td>\n",
       "      <td>Ts</td>\n",
       "      <td>NaN</td>\n",
       "      <td>NaN</td>\n",
       "      <td>NaN</td>\n",
       "      <td>NaN</td>\n",
       "      <td>X</td>\n",
       "      <td>NaN</td>\n",
       "      <td>NaN</td>\n",
       "      <td>...</td>\n",
       "      <td>7095.0000</td>\n",
       "      <td>3.0</td>\n",
       "      <td>2.932087e+08</td>\n",
       "      <td>835.0</td>\n",
       "      <td>194428.000000</td>\n",
       "      <td>778.0</td>\n",
       "      <td>1-August-2010</td>\n",
       "      <td>M. GUPTA</td>\n",
       "      <td>2022-04-26</td>\n",
       "      <td>293</td>\n",
       "    </tr>\n",
       "    <tr>\n",
       "      <th>TS294</th>\n",
       "      <td>117</td>\n",
       "      <td>177</td>\n",
       "      <td>Ts</td>\n",
       "      <td>NaN</td>\n",
       "      <td>NaN</td>\n",
       "      <td>NaN</td>\n",
       "      <td>NaN</td>\n",
       "      <td>NaN</td>\n",
       "      <td>0.0</td>\n",
       "      <td>NaN</td>\n",
       "      <td>...</td>\n",
       "      <td>7092.0000</td>\n",
       "      <td>2.0</td>\n",
       "      <td>2.942108e+08</td>\n",
       "      <td>637.0</td>\n",
       "      <td>196397.000000</td>\n",
       "      <td>593.0</td>\n",
       "      <td>31-Jan-2019</td>\n",
       "      <td>BALRAJ SINGH</td>\n",
       "      <td>2022-04-26</td>\n",
       "      <td>294</td>\n",
       "    </tr>\n",
       "    <tr>\n",
       "      <th>OG294</th>\n",
       "      <td>118</td>\n",
       "      <td>176</td>\n",
       "      <td>Og</td>\n",
       "      <td>NaN</td>\n",
       "      <td>NaN</td>\n",
       "      <td>NaN</td>\n",
       "      <td>NaN</td>\n",
       "      <td>NaN</td>\n",
       "      <td>0.0</td>\n",
       "      <td>NaN</td>\n",
       "      <td>...</td>\n",
       "      <td>7079.0000</td>\n",
       "      <td>2.0</td>\n",
       "      <td>2.942140e+08</td>\n",
       "      <td>594.0</td>\n",
       "      <td>199320.000000</td>\n",
       "      <td>553.0</td>\n",
       "      <td>31-Jan-2019</td>\n",
       "      <td>BALRAJ SINGH</td>\n",
       "      <td>2022-04-26</td>\n",
       "      <td>294</td>\n",
       "    </tr>\n",
       "  </tbody>\n",
       "</table>\n",
       "<p>3367 rows × 54 columns</p>\n",
       "</div>"
      ],
      "text/plain": [
       "         z    n symbol  radius   unc_r  abundance  abundance_unc energy_shift  \\\n",
       "name                                                                            \n",
       "NN1      0    1     Nn -0.1149  0.0027        NaN            NaN          NaN   \n",
       "N4       0    4      N     NaN     NaN        NaN            NaN          NaN   \n",
       "N6       0    6      N     NaN     NaN        NaN            NaN          NaN   \n",
       "H1       1    0      H  0.8783  0.0086    99.9855           78.0          NaN   \n",
       "H2       1    1      H  2.1421  0.0088     0.0145           78.0          NaN   \n",
       "...    ...  ...    ...     ...     ...        ...            ...          ...   \n",
       "LV293  116  177     Lv     NaN     NaN        NaN            NaN          NaN   \n",
       "LV294  116  178     Lv     NaN     NaN        NaN            NaN          NaN   \n",
       "TS293  117  176     Ts     NaN     NaN        NaN            NaN            X   \n",
       "TS294  117  177     Ts     NaN     NaN        NaN            NaN          NaN   \n",
       "OG294  118  176     Og     NaN     NaN        NaN            NaN          NaN   \n",
       "\n",
       "       energy  unc_e  ...    binding unc_ba   atomic_mass unc_am  \\\n",
       "name                  ...                                          \n",
       "NN1       0.0    NaN  ...     0.0000    0.0  1.008665e+06   47.0   \n",
       "N4        0.0    NaN  ...        NaN    NaN           NaN    NaN   \n",
       "N6        0.0    NaN  ...        NaN    NaN           NaN    NaN   \n",
       "H1        0.0    NaN  ...     0.0000    0.0  1.007825e+06   14.0   \n",
       "H2        0.0    NaN  ...  1112.2831    2.0  2.014102e+06   15.0   \n",
       "...       ...    ...  ...        ...    ...           ...    ...   \n",
       "LV293     0.0    NaN  ...  7111.0000    2.0  2.932046e+08  553.0   \n",
       "LV294     0.0    NaN  ...        NaN    NaN           NaN    NaN   \n",
       "TS293     NaN    NaN  ...  7095.0000    3.0  2.932087e+08  835.0   \n",
       "TS294     0.0    NaN  ...  7092.0000    2.0  2.942108e+08  637.0   \n",
       "OG294     0.0    NaN  ...  7079.0000    2.0  2.942140e+08  594.0   \n",
       "\n",
       "          massexcess unc_me  ENSDFpublicationcut-off  \\\n",
       "name                                                   \n",
       "NN1      8071.318060   44.0              31-Oct-2005   \n",
       "N4               NaN    NaN              30-Aug-2017   \n",
       "N6               NaN    NaN            15-March-2017   \n",
       "H1       7288.971064   13.0              31-Oct-2005   \n",
       "H2      13135.722895   15.0               1-May-2003   \n",
       "...              ...    ...                      ...   \n",
       "LV293  190568.000000  515.0              12-Aug-2005   \n",
       "LV294            NaN    NaN              31-Jan-2019   \n",
       "TS293  194428.000000  778.0            1-August-2010   \n",
       "TS294  196397.000000  593.0              31-Jan-2019   \n",
       "OG294  199320.000000  553.0              31-Jan-2019   \n",
       "\n",
       "                          ENSDFauthors Extraction_date    a  \n",
       "name                                                         \n",
       "NN1                       BALRAJ SINGH      2022-04-26    1  \n",
       "N4         J.E. Purcell and  C.G. Sheu      2022-04-26    4  \n",
       "N6          J.H. Kelley and  G.C. Sheu      2022-04-26    6  \n",
       "H1                        BALRAJ SINGH      2022-04-26    1  \n",
       "H2        J.H. KELLEY and  J.L. GODWIN      2022-04-26    2  \n",
       "...                                ...             ...  ...  \n",
       "LV293  M. GUPTA and  THOMAS W. BURROWS      2022-04-26  293  \n",
       "LV294                     BALRAJ SINGH      2022-04-26  294  \n",
       "TS293                         M. GUPTA      2022-04-26  293  \n",
       "TS294                     BALRAJ SINGH      2022-04-26  294  \n",
       "OG294                     BALRAJ SINGH      2022-04-26  294  \n",
       "\n",
       "[3367 rows x 54 columns]"
      ]
     },
     "execution_count": 10,
     "metadata": {},
     "output_type": "execute_result"
    }
   ],
   "source": [
    "#Underlying data \n",
    "data.df"
   ]
  },
  {
   "cell_type": "markdown",
   "id": "be51e8a0",
   "metadata": {},
   "source": [
    "The data class also contains relevant methods for retriving the data."
   ]
  },
  {
   "cell_type": "code",
   "execution_count": 11,
   "id": "d7154964",
   "metadata": {},
   "outputs": [],
   "source": [
    "?data.get_item"
   ]
  },
  {
   "cell_type": "code",
   "execution_count": 12,
   "id": "3671878f",
   "metadata": {},
   "outputs": [
    {
     "data": {
      "text/plain": [
       "5.8337"
      ]
     },
     "execution_count": 12,
     "metadata": {},
     "output_type": "execute_result"
    }
   ],
   "source": [
    "data.get_item('U235','radius')"
   ]
  }
 ],
 "metadata": {
  "kernelspec": {
   "display_name": "Python 3 (ipykernel)",
   "language": "python",
   "name": "python3"
  },
  "language_info": {
   "codemirror_mode": {
    "name": "ipython",
    "version": 3
   },
   "file_extension": ".py",
   "mimetype": "text/x-python",
   "name": "python",
   "nbconvert_exporter": "python",
   "pygments_lexer": "ipython3",
   "version": "3.10.4"
  }
 },
 "nbformat": 4,
 "nbformat_minor": 5
}
